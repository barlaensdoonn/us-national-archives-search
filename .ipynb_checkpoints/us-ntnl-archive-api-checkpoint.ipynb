{
 "cells": [
  {
   "cell_type": "code",
   "execution_count": 125,
   "metadata": {},
   "outputs": [],
   "source": [
    "import requests\n",
    "from collections import Counter"
   ]
  },
  {
   "cell_type": "code",
   "execution_count": 99,
   "metadata": {},
   "outputs": [
    {
     "data": {
      "text/plain": [
       "'https://catalog.archives.gov/api/v1/?resultFields=description.fileUnit.topicalSubjectArray&cursorMark=*'"
      ]
     },
     "execution_count": 99,
     "metadata": {},
     "output_type": "execute_result"
    }
   ],
   "source": [
    "api_url = 'https://catalog.archives.gov/api/v1/'\n",
    "# query_url = ''.join([api_url, '?resultTypes=item,fileUnit', '&cursorMark=*'])\n",
    "query_url = ''.join([api_url, '?resultFields=description.fileUnit.topicalSubjectArray', '&cursorMark=*'])\n",
    "# query_url = ''.join([api_url, '?resultTypes=fileUnit', '&cursorMark=*'])\n",
    "query_url"
   ]
  },
  {
   "cell_type": "code",
   "execution_count": 100,
   "metadata": {},
   "outputs": [],
   "source": [
    "r = requests.get(query_url)\n",
    "response = r.json()"
   ]
  },
  {
   "cell_type": "code",
   "execution_count": 101,
   "metadata": {},
   "outputs": [
    {
     "data": {
      "text/plain": [
       "dict_keys(['opaResponse'])"
      ]
     },
     "execution_count": 101,
     "metadata": {},
     "output_type": "execute_result"
    }
   ],
   "source": [
    "response.keys()"
   ]
  },
  {
   "cell_type": "code",
   "execution_count": 102,
   "metadata": {},
   "outputs": [
    {
     "data": {
      "text/plain": [
       "dict_keys(['@status', 'time', 'request', 'results'])"
      ]
     },
     "execution_count": 102,
     "metadata": {},
     "output_type": "execute_result"
    }
   ],
   "source": [
    "response['opaResponse'].keys()"
   ]
  },
  {
   "cell_type": "code",
   "execution_count": 103,
   "metadata": {},
   "outputs": [],
   "source": [
    "# only use this for errors\n",
    "# for key in response['opaResponse'].keys():\n",
    "#     print('{}: {}'.format(key, response['opaResponse'][key]))"
   ]
  },
  {
   "cell_type": "code",
   "execution_count": 104,
   "metadata": {},
   "outputs": [
    {
     "name": "stdout",
     "output_type": "stream",
     "text": [
      "@status: 200\n",
      "time: 2019-11-09T23:05:12.556Z\n",
      "request: {'format': 'json', 'pretty': True, 'action': 'search', 'resultFields': 'description.fileUnit.topicalSubjectArray', 'cursorMark': '*'}\n"
     ]
    }
   ],
   "source": [
    "for key in ['@status', 'time', 'request']:\n",
    "    print('{}: {}'.format(key, response['opaResponse'][key]))"
   ]
  },
  {
   "cell_type": "code",
   "execution_count": 105,
   "metadata": {},
   "outputs": [
    {
     "data": {
      "text/plain": [
       "dict_keys(['queryTime', 'total', 'offset', 'nextCursorMark', 'rows', 'result'])"
      ]
     },
     "execution_count": 105,
     "metadata": {},
     "output_type": "execute_result"
    }
   ],
   "source": [
    "response['opaResponse']['results'].keys()"
   ]
  },
  {
   "cell_type": "code",
   "execution_count": 106,
   "metadata": {},
   "outputs": [
    {
     "data": {
      "text/plain": [
       "'AoMIP4AAAHCwy4up7gI3b2JqLTEyNDIxODUxNS0xMzQ3Mzc2Mzc=-10'"
      ]
     },
     "execution_count": 106,
     "metadata": {},
     "output_type": "execute_result"
    }
   ],
   "source": [
    "response['opaResponse']['results']['nextCursorMark']"
   ]
  },
  {
   "cell_type": "code",
   "execution_count": 107,
   "metadata": {},
   "outputs": [
    {
     "data": {
      "text/plain": [
       "121043289"
      ]
     },
     "execution_count": 107,
     "metadata": {},
     "output_type": "execute_result"
    }
   ],
   "source": [
    "response['opaResponse']['results']['total']"
   ]
  },
  {
   "cell_type": "code",
   "execution_count": 108,
   "metadata": {},
   "outputs": [
    {
     "data": {
      "text/plain": [
       "10"
      ]
     },
     "execution_count": 108,
     "metadata": {},
     "output_type": "execute_result"
    }
   ],
   "source": [
    "response['opaResponse']['results']['rows']"
   ]
  },
  {
   "cell_type": "code",
   "execution_count": 109,
   "metadata": {},
   "outputs": [
    {
     "data": {
      "text/plain": [
       "10"
      ]
     },
     "execution_count": 109,
     "metadata": {},
     "output_type": "execute_result"
    }
   ],
   "source": [
    "len(response['opaResponse']['results']['result'])"
   ]
  },
  {
   "cell_type": "code",
   "execution_count": 110,
   "metadata": {},
   "outputs": [
    {
     "data": {
      "text/plain": [
       "dict_keys([])"
      ]
     },
     "execution_count": 110,
     "metadata": {},
     "output_type": "execute_result"
    }
   ],
   "source": [
    "response['opaResponse']['results']['result'][0].keys()\n",
    "# response['opaResponse']['results']['result'][0]"
   ]
  },
  {
   "cell_type": "code",
   "execution_count": 127,
   "metadata": {},
   "outputs": [
    {
     "data": {
      "text/plain": [
       "{'description': {'fileUnit': {'topicalSubjectArray': {'topicalSubject': [{'naId': '138671671',\n",
       "      'termName': 'Air Medal (U.S.)',\n",
       "      'recordHistory': {'approved': {'modification': {'dateTime': '2019-06-07T15:55:08'}},\n",
       "       'changed': {'modification': {'dateTime': '2019-06-07T15:54:30'}},\n",
       "       'created': {'dateTime': '2019-06-07T15:53:44'}}},\n",
       "     {'naId': '138671671',\n",
       "      'termName': 'Air Medal (U.S.)',\n",
       "      'recordHistory': {'approved': {'modification': {'dateTime': '2019-06-07T15:55:08'}},\n",
       "       'changed': {'modification': {'dateTime': '2019-06-07T15:54:30'}},\n",
       "       'created': {'dateTime': '2019-06-07T15:53:44'}}}]}}}}"
      ]
     },
     "execution_count": 127,
     "metadata": {},
     "output_type": "execute_result"
    }
   ],
   "source": [
    "response['opaResponse']['results']['result'][2] #['description']['fileUnit']['topicalSubjectArray']['topicalSubject'][0]['termName']"
   ]
  },
  {
   "cell_type": "code",
   "execution_count": 128,
   "metadata": {},
   "outputs": [
    {
     "data": {
      "text/plain": [
       "Counter({'Distinguished Flying Cross (Medal)': 1, 'Air Medal (U.S.)': 2})"
      ]
     },
     "execution_count": 128,
     "metadata": {},
     "output_type": "execute_result"
    }
   ],
   "source": [
    "topix = Counter()\n",
    "\n",
    "for result in response['opaResponse']['results']['result']:\n",
    "    if result:\n",
    "        fields = result['description']['fileUnit']['topicalSubjectArray']['topicalSubject']\n",
    "        if type(fields) == dict:\n",
    "            topic = result['description']['fileUnit']['topicalSubjectArray']['topicalSubject']['termName']\n",
    "            topix[topic] += 1\n",
    "        elif type(fields) == list:\n",
    "            for tinier_result in result['description']['fileUnit']['topicalSubjectArray']['topicalSubject']:\n",
    "                topix[tinier_result['termName']] += 1\n",
    "topix"
   ]
  },
  {
   "cell_type": "code",
   "execution_count": 130,
   "metadata": {},
   "outputs": [],
   "source": [
    "topics = Counter()\n",
    "\n",
    "api_url = 'https://catalog.archives.gov/api/v1/'\n",
    "query_url = ''.join([api_url, '?resultFields=description.fileUnit.topicalSubjectArray', '&cursorMark=*'])\n",
    "\n",
    "r = requests.get(query_url)\n",
    "response = r.json()\n",
    "\n",
    "while r.ok:\n",
    "    for result in response['opaResponse']['results']['result']:\n",
    "        if result:\n",
    "            fields = result['description']['fileUnit']['topicalSubjectArray']['topicalSubject']\n",
    "            if type(fields) == dict:\n",
    "                topic = result['description']['fileUnit']['topicalSubjectArray']['topicalSubject']['termName']\n",
    "                topics[topic] += 1\n",
    "            elif type(fields) == list:\n",
    "                for tinier_result in result['description']['fileUnit']['topicalSubjectArray']['topicalSubject']:\n",
    "                    topics[tinier_result['termName']] += 1\n",
    "\n",
    "    next_cursor = response['opaResponse']['results']['nextCursorMark']\n",
    "    query_url = ''.join([api_url, '?resultFields=description.fileUnit.topicalSubjectArray', '&cursorMark={}'.format(next_cursor)])\n",
    "    r = requests.get(query_url)\n",
    "    response = r.json()"
   ]
  },
  {
   "cell_type": "code",
   "execution_count": 131,
   "metadata": {},
   "outputs": [
    {
     "data": {
      "text/plain": [
       "Counter({'Distinguished Flying Cross (Medal)': 2,\n",
       "         'Air Medal (U.S.)': 2,\n",
       "         'Court martial and courts of inquiry': 171,\n",
       "         'Naturalization': 1,\n",
       "         'Fraud': 1,\n",
       "         'Citizenship': 1,\n",
       "         'Judges': 1,\n",
       "         'Federal judges': 1,\n",
       "         'Diplomatic and consular service': 1,\n",
       "         'Cabinet officers': 1,\n",
       "         'Land use': 1,\n",
       "         'Cities and towns': 1})"
      ]
     },
     "execution_count": 131,
     "metadata": {},
     "output_type": "execute_result"
    }
   ],
   "source": [
    "topics"
   ]
  },
  {
   "cell_type": "markdown",
   "metadata": {},
   "source": [
    "## ['description']['fileUnit']"
   ]
  },
  {
   "cell_type": "code",
   "execution_count": 31,
   "metadata": {},
   "outputs": [
    {
     "data": {
      "text/plain": [
       "{'naId': '124218515',\n",
       " 'accessRestriction': {'status': {'naId': '10031403',\n",
       "   'termName': 'Unrestricted'}},\n",
       " 'dataControlGroup': {'groupCd': 'REBO',\n",
       "  'groupId': 'ou=NRAAB,ou=groups',\n",
       "  'groupName': \"NARA's Northeast Region (Boston)\"},\n",
       " 'generalRecordsTypeArray': {'generalRecordsType': {'naId': '10035676',\n",
       "   'termName': 'Textual Records'}},\n",
       " 'isAv': 'false',\n",
       " 'isUnderEdit': 'false',\n",
       " 'physicalOccurrenceArray': {'fileUnitPhysicalOccurrence': {'copyStatus': {'naId': '10031434',\n",
       "    'termName': 'Preservation-Reproduction-Reference'},\n",
       "   'locationArray': {'location': {'facility': {'naId': '10048519',\n",
       "      'termName': \"NARA's Northeast Region (Boston, MA)\"}}},\n",
       "   'mediaOccurrenceArray': {'mediaOccurrence': {'containerId': 'Box 7',\n",
       "     'generalMediaTypeArray': {'generalMediaType': {'naId': '12000002',\n",
       "       'termName': 'Bound Volumes'}},\n",
       "     'specificMediaType': {'naId': '10048756', 'termName': 'Paper'}}},\n",
       "   'referenceUnitArray': {'referenceUnit': {'mailCode': 'RE-BO',\n",
       "     'name': 'National Archives at Boston',\n",
       "     'address1': '380 Trapelo Road',\n",
       "     'city': 'Waltham',\n",
       "     'state': 'MA',\n",
       "     'postCode': '02452-6399',\n",
       "     'phone': '866-406-2379',\n",
       "     'fax': '781-663-0156',\n",
       "     'email': 'boston.archives@nara.gov',\n",
       "     'naId': '14',\n",
       "     'termName': 'National Archives at Boston'}}}},\n",
       " 'recordHistory': {'approved': {'modification': {'dateTime': '2019-03-27T00:40:18'}},\n",
       "  'changed': {'modification': [{'dateTime': '2019-03-25T14:13:16'},\n",
       "    {'dateTime': '2019-03-25T14:13:48'},\n",
       "    {'dateTime': '2019-05-03T18:05:51'}]},\n",
       "  'created': {'dateTime': '2019-03-25T10:50:16'}},\n",
       " 'title': 'Volume 7: 1772-1818',\n",
       " 'useRestriction': {'status': {'naId': '10675400',\n",
       "   'termName': 'Unrestricted'}},\n",
       " 'itemCount': '0',\n",
       " 'itemAvCount': '0',\n",
       " 'parentSeries': {'naId': '6046816',\n",
       "  'title': 'Letters Received from the Departments of State and Treasury',\n",
       "  'inclusiveDates': {'inclusiveEndDate': {'year': '1882',\n",
       "    'logicalDate': '1882-12-31T00:00:00'},\n",
       "   'inclusiveStartDate': {'year': '1789',\n",
       "    'logicalDate': '1789-01-01T00:00:00'}},\n",
       "  'parentRecordGroup': {'naId': '365',\n",
       "   'title': 'Records of the U.S. Customs Service',\n",
       "   'recordGroupNumber': '36',\n",
       "   'inclusiveDates': {'inclusiveEndDate': {'year': '1997',\n",
       "     'logicalDate': '1997-12-31T00:00:00'},\n",
       "    'inclusiveStartDate': {'year': '1745',\n",
       "     'logicalDate': '1745-01-01T00:00:00'}}},\n",
       "  'creatingOrganizationArray': {'creatingOrganization': {'creator': {'naId': '10473031',\n",
       "     'termName': 'Department of the Treasury. Customs Service. Collection District of Boston and Charlestown, Massachusetts. Office of the Collector of Customs. 7/31/1789-1913',\n",
       "     'establishDate': {'year': '1789',\n",
       "      'month': '7',\n",
       "      'day': '31',\n",
       "      'logicalDate': '1789-07-31T00:00:00'},\n",
       "     'abolishDate': {'year': '1913', 'logicalDate': '1913-12-31T00:00:00'}},\n",
       "    'creatorType': {'naId': '10031465', 'termName': 'Most Recent'}}}}}"
      ]
     },
     "execution_count": 31,
     "metadata": {},
     "output_type": "execute_result"
    }
   ],
   "source": [
    "response['opaResponse']['results']['result'][0]['description']['fileUnit']"
   ]
  },
  {
   "cell_type": "code",
   "execution_count": 32,
   "metadata": {},
   "outputs": [
    {
     "data": {
      "text/plain": [
       "'Unrestricted'"
      ]
     },
     "execution_count": 32,
     "metadata": {},
     "output_type": "execute_result"
    }
   ],
   "source": [
    "response['opaResponse']['results']['result'][0]['description']['fileUnit']['accessRestriction']['status']['termName']"
   ]
  },
  {
   "cell_type": "code",
   "execution_count": 33,
   "metadata": {},
   "outputs": [
    {
     "data": {
      "text/plain": [
       "'Textual Records'"
      ]
     },
     "execution_count": 33,
     "metadata": {},
     "output_type": "execute_result"
    }
   ],
   "source": [
    "response['opaResponse']['results']['result'][0]['description']['fileUnit']['generalRecordsTypeArray']['generalRecordsType']['termName']"
   ]
  },
  {
   "cell_type": "code",
   "execution_count": 34,
   "metadata": {},
   "outputs": [
    {
     "data": {
      "text/plain": [
       "'Bound Volumes'"
      ]
     },
     "execution_count": 34,
     "metadata": {},
     "output_type": "execute_result"
    }
   ],
   "source": [
    "response['opaResponse']['results']['result'][0]['description']['fileUnit']['physicalOccurrenceArray']['fileUnitPhysicalOccurrence']['mediaOccurrenceArray']['mediaOccurrence']['generalMediaTypeArray']['generalMediaType']['termName']"
   ]
  },
  {
   "cell_type": "code",
   "execution_count": 43,
   "metadata": {},
   "outputs": [
    {
     "data": {
      "text/plain": [
       "dict_keys(['naId', 'accessRestriction', 'dataControlGroup', 'generalRecordsTypeArray', 'isAv', 'isUnderEdit', 'physicalOccurrenceArray', 'recordHistory', 'title', 'useRestriction', 'itemCount', 'itemAvCount', 'parentSeries'])"
      ]
     },
     "execution_count": 43,
     "metadata": {},
     "output_type": "execute_result"
    }
   ],
   "source": [
    "response['opaResponse']['results']['result'][0]['description']['fileUnit'].keys()"
   ]
  },
  {
   "cell_type": "code",
   "execution_count": 35,
   "metadata": {},
   "outputs": [
    {
     "ename": "KeyError",
     "evalue": "'topicalSubjectArray'",
     "output_type": "error",
     "traceback": [
      "\u001b[0;31m---------------------------------------------------------------------------\u001b[0m",
      "\u001b[0;31mKeyError\u001b[0m                                  Traceback (most recent call last)",
      "\u001b[0;32m<ipython-input-35-dff047a66b19>\u001b[0m in \u001b[0;36m<module>\u001b[0;34m\u001b[0m\n\u001b[0;32m----> 1\u001b[0;31m \u001b[0mresponse\u001b[0m\u001b[0;34m[\u001b[0m\u001b[0;34m'opaResponse'\u001b[0m\u001b[0;34m]\u001b[0m\u001b[0;34m[\u001b[0m\u001b[0;34m'results'\u001b[0m\u001b[0;34m]\u001b[0m\u001b[0;34m[\u001b[0m\u001b[0;34m'result'\u001b[0m\u001b[0;34m]\u001b[0m\u001b[0;34m[\u001b[0m\u001b[0;36m0\u001b[0m\u001b[0;34m]\u001b[0m\u001b[0;34m[\u001b[0m\u001b[0;34m'description'\u001b[0m\u001b[0;34m]\u001b[0m\u001b[0;34m[\u001b[0m\u001b[0;34m'fileUnit'\u001b[0m\u001b[0;34m]\u001b[0m\u001b[0;34m[\u001b[0m\u001b[0;34m'topicalSubjectArray'\u001b[0m\u001b[0;34m]\u001b[0m\u001b[0;34m[\u001b[0m\u001b[0;34m'topicalSubject'\u001b[0m\u001b[0;34m]\u001b[0m\u001b[0;34m[\u001b[0m\u001b[0;34m'termName'\u001b[0m\u001b[0;34m]\u001b[0m\u001b[0;34m\u001b[0m\u001b[0m\n\u001b[0m",
      "\u001b[0;31mKeyError\u001b[0m: 'topicalSubjectArray'"
     ]
    }
   ],
   "source": [
    "response['opaResponse']['results']['result'][0]['description']['fileUnit']['topicalSubjectArray']['topicalSubject']['termName']"
   ]
  },
  {
   "cell_type": "code",
   "execution_count": 41,
   "metadata": {},
   "outputs": [
    {
     "data": {
      "text/plain": [
       "{'@id': '134737635',\n",
       " '@objectSortNum': '476',\n",
       " 'technicalMetadata': {'size': '512024494',\n",
       "  'mime': 'application/pdf',\n",
       "  'createDate': '2019-04-19T15:25:57Z',\n",
       "  'modifyDate': '2019-04-19T15:25:57Z',\n",
       "  'Page-Count': '475'},\n",
       " 'file': {'@mime': 'application/pdf',\n",
       "  '@name': '124218515.pdf',\n",
       "  '@path': '/lz/boston/rg-036/6046816/124218515/124218515.pdf',\n",
       "  '@type': 'primary',\n",
       "  '@url': 'https://catalog.archives.gov/catalogmedia/lz/boston/rg-036/6046816/124218515/124218515.pdf',\n",
       "  '@extractedTextFile': 'https://catalog.archives.gov/catalogmedia/live/boston/rg-036/6046816/124218515/124218515.pdf/opa-renditions/extracted-text/124218515.pdf.txt'},\n",
       " 'thumbnail': {'@mime': 'image/jpeg',\n",
       "  '@path': 'opa-renditions/thumbnails/124218515.pdf-thumb.jpg',\n",
       "  '@url': 'https://catalog.archives.gov/catalogmedia/live/boston/rg-036/6046816/124218515/124218515.pdf/opa-renditions/thumbnails/124218515.pdf-thumb.jpg'}}"
      ]
     },
     "execution_count": 41,
     "metadata": {},
     "output_type": "execute_result"
    }
   ],
   "source": [
    "response['opaResponse']['results']['result'][0]['objects']['object'][0]"
   ]
  },
  {
   "cell_type": "code",
   "execution_count": 44,
   "metadata": {},
   "outputs": [
    {
     "name": "stdout",
     "output_type": "stream",
     "text": [
      "False\n",
      "True\n",
      "True\n",
      "False\n"
     ]
    },
    {
     "ename": "KeyError",
     "evalue": "'fileUnit'",
     "output_type": "error",
     "traceback": [
      "\u001b[0;31m---------------------------------------------------------------------------\u001b[0m",
      "\u001b[0;31mKeyError\u001b[0m                                  Traceback (most recent call last)",
      "\u001b[0;32m<ipython-input-44-612e6796e272>\u001b[0m in \u001b[0;36m<module>\u001b[0;34m\u001b[0m\n\u001b[1;32m      1\u001b[0m \u001b[0;32mfor\u001b[0m \u001b[0mresult\u001b[0m \u001b[0;32min\u001b[0m \u001b[0mresponse\u001b[0m\u001b[0;34m[\u001b[0m\u001b[0;34m'opaResponse'\u001b[0m\u001b[0;34m]\u001b[0m\u001b[0;34m[\u001b[0m\u001b[0;34m'results'\u001b[0m\u001b[0;34m]\u001b[0m\u001b[0;34m[\u001b[0m\u001b[0;34m'result'\u001b[0m\u001b[0;34m]\u001b[0m\u001b[0;34m:\u001b[0m\u001b[0;34m\u001b[0m\u001b[0m\n\u001b[0;32m----> 2\u001b[0;31m     \u001b[0;32mif\u001b[0m \u001b[0;34m'topicalSubjectArray'\u001b[0m \u001b[0;32min\u001b[0m \u001b[0mresult\u001b[0m\u001b[0;34m[\u001b[0m\u001b[0;34m'description'\u001b[0m\u001b[0;34m]\u001b[0m\u001b[0;34m[\u001b[0m\u001b[0;34m'fileUnit'\u001b[0m\u001b[0;34m]\u001b[0m\u001b[0;34m.\u001b[0m\u001b[0mkeys\u001b[0m\u001b[0;34m(\u001b[0m\u001b[0;34m)\u001b[0m\u001b[0;34m:\u001b[0m\u001b[0;34m\u001b[0m\u001b[0m\n\u001b[0m\u001b[1;32m      3\u001b[0m         \u001b[0mprint\u001b[0m\u001b[0;34m(\u001b[0m\u001b[0;32mTrue\u001b[0m\u001b[0;34m)\u001b[0m\u001b[0;34m\u001b[0m\u001b[0m\n\u001b[1;32m      4\u001b[0m     \u001b[0;32melse\u001b[0m\u001b[0;34m:\u001b[0m\u001b[0;34m\u001b[0m\u001b[0m\n\u001b[1;32m      5\u001b[0m         \u001b[0mprint\u001b[0m\u001b[0;34m(\u001b[0m\u001b[0;32mFalse\u001b[0m\u001b[0;34m)\u001b[0m\u001b[0;34m\u001b[0m\u001b[0m\n",
      "\u001b[0;31mKeyError\u001b[0m: 'fileUnit'"
     ]
    }
   ],
   "source": [
    "for result in response['opaResponse']['results']['result']:\n",
    "    if 'topicalSubjectArray' in result['description']['fileUnit'].keys():\n",
    "        print(True)\n",
    "    else:\n",
    "        print(False)"
   ]
  },
  {
   "cell_type": "code",
   "execution_count": null,
   "metadata": {},
   "outputs": [],
   "source": []
  }
 ],
 "metadata": {
  "kernelspec": {
   "display_name": "Python 3",
   "language": "python",
   "name": "python3"
  },
  "language_info": {
   "codemirror_mode": {
    "name": "ipython",
    "version": 3
   },
   "file_extension": ".py",
   "mimetype": "text/x-python",
   "name": "python",
   "nbconvert_exporter": "python",
   "pygments_lexer": "ipython3",
   "version": "3.6.5"
  }
 },
 "nbformat": 4,
 "nbformat_minor": 2
}
