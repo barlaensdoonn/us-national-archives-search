{
 "cells": [
  {
   "cell_type": "code",
   "execution_count": 1,
   "metadata": {},
   "outputs": [],
   "source": [
    "import ndjson"
   ]
  },
  {
   "cell_type": "code",
   "execution_count": 2,
   "metadata": {},
   "outputs": [],
   "source": [
    "infile = 'loc_terms/lcsh.skos.ndjson'"
   ]
  },
  {
   "cell_type": "code",
   "execution_count": 3,
   "metadata": {},
   "outputs": [],
   "source": [
    "with open(infile, 'r') as inf:\n",
    "    skos = ndjson.load(inf)"
   ]
  },
  {
   "cell_type": "code",
   "execution_count": 4,
   "metadata": {},
   "outputs": [
    {
     "data": {
      "text/plain": [
       "list"
      ]
     },
     "execution_count": 4,
     "metadata": {},
     "output_type": "execute_result"
    }
   ],
   "source": [
    "type(skos)"
   ]
  },
  {
   "cell_type": "code",
   "execution_count": 5,
   "metadata": {},
   "outputs": [
    {
     "data": {
      "text/plain": [
       "434265"
      ]
     },
     "execution_count": 5,
     "metadata": {},
     "output_type": "execute_result"
    }
   ],
   "source": [
    "len(skos)"
   ]
  },
  {
   "cell_type": "code",
   "execution_count": 6,
   "metadata": {},
   "outputs": [
    {
     "data": {
      "text/plain": [
       "{'@context': {'cs': 'http://purl.org/vocab/changeset/schema#',\n",
       "  'rdf': 'http://www.w3.org/1999/02/22-rdf-syntax-ns#',\n",
       "  'rdfs': 'http://www.w3.org/2000/01/rdf-schema#',\n",
       "  'rdfs1': 'http://www.w3.org/1999/02/22-rdf-schema#',\n",
       "  'skos': 'http://www.w3.org/2004/02/skos/core#',\n",
       "  'skosxl': 'http://www.w3.org/2008/05/skos-xl#',\n",
       "  'xsd': 'http://www.w3.org/2001/XMLSchema#',\n",
       "  'about': 'http://id.loc.gov/authorities/subjects/sh2009116899'},\n",
       " '@graph': [{'@id': 'http://id.loc.gov/authorities/subjects/sh2009116899',\n",
       "   '@type': 'skos:Concept',\n",
       "   'skos:changeNote': [{'@id': '_:N4bc468bfb040444196abfe01db09e2c2'},\n",
       "    {'@id': '_:N84d2f5a19189411c8ec0500588920d6e'}],\n",
       "   'skos:editorial': '[Record generated for validation purposes.]',\n",
       "   'skos:inScheme': {'@id': 'http://id.loc.gov/authorities/subjects'},\n",
       "   'skos:prefLabel': {'@language': 'en',\n",
       "    '@value': 'Bee culture--Juvenile literature'}},\n",
       "  {'@id': '_:N4bc468bfb040444196abfe01db09e2c2',\n",
       "   '@type': 'cs:ChangeSet',\n",
       "   'cs:changeReason': 'revised',\n",
       "   'cs:createdDate': {'@type': 'xsd:dateTime',\n",
       "    '@value': '2009-06-03T07:56:45'},\n",
       "   'cs:creatorName': {'@id': 'http://id.loc.gov/vocabulary/organizations/dlc'},\n",
       "   'cs:subjectOfChange': {'@id': 'http://id.loc.gov/authorities/subjects/sh2009116899'}},\n",
       "  {'@id': '_:N84d2f5a19189411c8ec0500588920d6e',\n",
       "   '@type': 'cs:ChangeSet',\n",
       "   'cs:changeReason': 'new',\n",
       "   'cs:createdDate': {'@type': 'xsd:dateTime',\n",
       "    '@value': '2009-06-02T00:00:00'},\n",
       "   'cs:creatorName': {'@id': 'http://id.loc.gov/vocabulary/organizations/dlc'},\n",
       "   'cs:subjectOfChange': {'@id': 'http://id.loc.gov/authorities/subjects/sh2009116899'}}]}"
      ]
     },
     "execution_count": 6,
     "metadata": {},
     "output_type": "execute_result"
    }
   ],
   "source": [
    "skos[0]"
   ]
  },
  {
   "cell_type": "code",
   "execution_count": 7,
   "metadata": {},
   "outputs": [
    {
     "data": {
      "text/plain": [
       "3"
      ]
     },
     "execution_count": 7,
     "metadata": {},
     "output_type": "execute_result"
    }
   ],
   "source": [
    "len(skos[0]['@graph'])"
   ]
  },
  {
   "cell_type": "code",
   "execution_count": 8,
   "metadata": {},
   "outputs": [],
   "source": [
    "loc_subject_headings = set()\n",
    "outliers = []\n",
    "problems = []\n",
    "\n",
    "for i in range(len(skos)):\n",
    "    for piece in skos[i]['@graph']:\n",
    "        if piece['@type'] == 'skos:Concept':\n",
    "            # print(piece['skos:prefLabel']['@value'])\n",
    "            try:\n",
    "                if type(piece['skos:prefLabel']) == dict:\n",
    "                    loc_subject_headings.add(piece['skos:prefLabel']['@value'])\n",
    "                elif type(piece['skos:prefLabel']) == str:\n",
    "                    loc_subject_headings.add(piece['skos:prefLabel'])\n",
    "                else:\n",
    "                    outliers.append(piece)\n",
    "            except KeyError:\n",
    "                problems.append(piece)"
   ]
  },
  {
   "cell_type": "code",
   "execution_count": 9,
   "metadata": {},
   "outputs": [
    {
     "data": {
      "text/plain": [
       "429812"
      ]
     },
     "execution_count": 9,
     "metadata": {},
     "output_type": "execute_result"
    }
   ],
   "source": [
    "len(loc_subject_headings)"
   ]
  },
  {
   "cell_type": "code",
   "execution_count": 10,
   "metadata": {},
   "outputs": [
    {
     "data": {
      "text/plain": [
       "{'@id': 'http://id.loc.gov/authorities/names/n2018063589',\n",
       " '@type': 'skos:Concept',\n",
       " 'skos:prefLabel': ['Nancy (Fictitious character)',\n",
       "  {'@language': 'en', '@value': 'Nancy (Fictitious character)'}]}"
      ]
     },
     "execution_count": 10,
     "metadata": {},
     "output_type": "execute_result"
    }
   ],
   "source": [
    "outliers[0]"
   ]
  },
  {
   "cell_type": "code",
   "execution_count": 11,
   "metadata": {},
   "outputs": [
    {
     "data": {
      "text/plain": [
       "{'@id': 'http://id.loc.gov/authorities/names/nb2016024072',\n",
       " '@type': 'skos:Concept'}"
      ]
     },
     "execution_count": 11,
     "metadata": {},
     "output_type": "execute_result"
    }
   ],
   "source": [
    "problems[0]"
   ]
  },
  {
   "cell_type": "code",
   "execution_count": 18,
   "metadata": {},
   "outputs": [
    {
     "name": "stdout",
     "output_type": "stream",
     "text": [
      "Law--Hungary--Periodicals\n",
      "Graphic arts--Awards--Exhibitions\n",
      "Hawaii--History--Overthrow of the Monarchy, 1893\n",
      "Water--Congresses\n",
      "Science fiction films\n",
      "Glénan Islands (France)\n",
      "Epic poetry, Greek--Translations into German\n",
      "Behimer family\n",
      "Speeches, addresses, etc., Maori\n",
      "Trieste (Italy)--History\n",
      "Women-owned law firms\n",
      "Geology in literature\n",
      "Women detectives--Minnesota--Fiction\n",
      "Hardhead catfish\n",
      "Crocodiles--Juvenile literature\n",
      "Nuclear arms control--Russia (Federation)\n",
      "Inscriptions\n",
      "Benakēs family\n",
      "House plants in interior decoration\n",
      "Sounds (Geomorphology)--Georgia\n",
      "Distress signals--Law and legislation\n",
      "Sound--Measurement\n",
      "Rivers--Nevada\n",
      "Templer Park (Rawang, Selangor, Malaysia)\n",
      "COM (Computer architecture)\n",
      "Historic trees--Bahrain\n",
      "Bank robberies--Fiction\n",
      "Spinal cord--Abnormalities--Patients\n",
      "Buddhist priests\n",
      "World War, 1939-1945--Destruction and pillage--Poland\n",
      "Molded dishes (Cooking)\n",
      "South America--Politics and government--19th century\n",
      "German Americans\n",
      "Germanic literature\n",
      "Fasting--Religious aspects--Mormon Church\n",
      "Best in American Living Awards\n",
      "Art, Mongolian\n",
      "Bangs Canyon (Colo.)\n",
      "Mathematical symbols (Typefaces)\n",
      "Daechsel family\n",
      "Epinephelus itajara\n",
      "Psychoanalysts--Austria--Biography\n",
      "Historic sites--Japan\n",
      "Intelligence service--Law and legislation--United States\n",
      "Fairy tales--Juvenile sound recordings\n",
      "Blitzen River Wilderness (Or.)\n",
      "Neya, Kaylin (Fictitious character)\n",
      "Armories--New York (State)\n",
      "Petroleum--Biodegradation--Northwest Territories\n",
      "Lennox Island Indian Reserve (P.E.I.)\n",
      "Agriculture--Economic aspects--Mexico--Congresses\n",
      "Apapocuva mythology\n",
      "Microwave cooking\n",
      "Bridges--Japan\n",
      "Mochida family\n",
      "Soldiers and Sailors Monument (Portland, Me.)\n",
      "European Highway E18\n",
      "Wine--Poetry\n",
      "Philosophers--Interviews\n",
      "Canoes and canoeing--Canada\n",
      "Rittenberg family\n",
      "Type 22 (Frigates)\n",
      "Probate law and practice--Michigan\n",
      "New York (State)--History--French and Indian War, 1754-1763\n",
      "Journalism--Awards--Austria\n",
      "Trials (Genocide)--Rwanda\n",
      "Names, Personal--Hungary\n",
      "Leptodiridae\n",
      "Abolitionists--Fiction\n",
      "Medical technology--United States\n",
      "Lakeside and Haverthwaite Railway\n",
      "Semliki River Valley (Congo and Uganda)\n",
      "Gifts--Taxation--Law and legislation--United States--Cases\n",
      "Crooked Lake (Athabasca, Alta.)\n",
      "Socialism\n",
      "Haliplidae\n",
      "Photosensitization, Biological\n",
      "Sacoglossa\n",
      "Canned fish industry\n",
      "Wood partridges\n",
      "Law--France--Sources\n",
      "Trosper Road Interchange (Interstate 5)\n",
      "Pizza\n",
      "Margam Castle (Margam, Wales)\n",
      "Brass quartets (Horns (4))\n",
      "Zulu (African people)--Medicine\n",
      "Birom language\n",
      "Beberdick family\n",
      "Walloon wit and humor\n",
      "Bassoon and contrabassoon music\n",
      "Digital audio editors\n",
      "Corn--Effect of radiation on\n",
      "Pastré family\n",
      "Ghost stories, Singaporean (English)\n",
      "Accordion with string ensemble\n",
      "Medical offices in literature\n",
      "Saganaga Lake (Minn. and Ont.)\n",
      "Kuruc family\n",
      "Tali-Ihantala, Battle of, Russia, 1944\n",
      "Borah Peak (Idaho)\n",
      "Natural gas--Oklahoma\n"
     ]
    }
   ],
   "source": [
    "n = 100\n",
    "i = 0\n",
    "for heading in loc_subject_headings:\n",
    "    if i <= n:\n",
    "        print(heading)\n",
    "        i += 1"
   ]
  },
  {
   "cell_type": "code",
   "execution_count": null,
   "metadata": {},
   "outputs": [],
   "source": []
  }
 ],
 "metadata": {
  "kernelspec": {
   "display_name": "Python 3",
   "language": "python",
   "name": "python3"
  },
  "language_info": {
   "codemirror_mode": {
    "name": "ipython",
    "version": 3
   },
   "file_extension": ".py",
   "mimetype": "text/x-python",
   "name": "python",
   "nbconvert_exporter": "python",
   "pygments_lexer": "ipython3",
   "version": "3.6.5"
  }
 },
 "nbformat": 4,
 "nbformat_minor": 2
}
