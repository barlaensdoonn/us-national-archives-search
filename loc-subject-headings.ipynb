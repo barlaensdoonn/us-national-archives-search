{
 "cells": [
  {
   "cell_type": "code",
   "execution_count": 22,
   "metadata": {},
   "outputs": [],
   "source": [
    "import os\n",
    "import ndjson"
   ]
  },
  {
   "cell_type": "code",
   "execution_count": 25,
   "metadata": {},
   "outputs": [],
   "source": [
    "# load id's of LOC subject headings specifically related to Indigeneity\n",
    "indigenous_ids = os.path.join('input', 'indigenous_term_identifiers.txt')\n",
    "with open(indigenous_ids, 'r') as ids:\n",
    "    indids = ids.readlines()\n",
    "\n",
    "# load LOC subject headings\n",
    "subject_headings_infile = os.path.join('input', 'lcsh.skos.ndjson')\n",
    "with open(subject_headings_infile, 'r') as inf:\n",
    "    skos = ndjson.load(inf)"
   ]
  },
  {
   "cell_type": "code",
   "execution_count": 26,
   "metadata": {},
   "outputs": [
    {
     "data": {
      "text/plain": [
       "list"
      ]
     },
     "execution_count": 26,
     "metadata": {},
     "output_type": "execute_result"
    }
   ],
   "source": [
    "type(indids)"
   ]
  },
  {
   "cell_type": "code",
   "execution_count": 5,
   "metadata": {},
   "outputs": [
    {
     "data": {
      "text/plain": [
       "434265"
      ]
     },
     "execution_count": 5,
     "metadata": {},
     "output_type": "execute_result"
    }
   ],
   "source": [
    "len(skos)"
   ]
  },
  {
   "cell_type": "code",
   "execution_count": 6,
   "metadata": {},
   "outputs": [
    {
     "data": {
      "text/plain": [
       "{'@id': 'http://id.loc.gov/authorities/subjects/sh85114390',\n",
       " '@type': 'skos:Concept',\n",
       " 'skos:prefLabel': {'@language': 'en',\n",
       "  '@value': 'Rivers--Russia (Federation)'}}"
      ]
     },
     "execution_count": 6,
     "metadata": {},
     "output_type": "execute_result"
    }
   ],
   "source": [
    "skos[10456]['@graph'][0]"
   ]
  },
  {
   "cell_type": "code",
   "execution_count": 7,
   "metadata": {},
   "outputs": [
    {
     "data": {
      "text/plain": [
       "3"
      ]
     },
     "execution_count": 7,
     "metadata": {},
     "output_type": "execute_result"
    }
   ],
   "source": [
    "len(skos[0]['@graph'])"
   ]
  },
  {
   "cell_type": "code",
   "execution_count": 8,
   "metadata": {},
   "outputs": [],
   "source": [
    "loc_subject_headings = set()\n",
    "fully_qualified_info = {}\n",
    "outliers = []\n",
    "problems = []\n",
    "\n",
    "for i in range(len(skos)):\n",
    "    for piece in skos[i]['@graph']:\n",
    "        if piece['@type'] == 'skos:Concept':\n",
    "            # print(piece['skos:prefLabel']['@value'])\n",
    "            try:\n",
    "                if type(piece['skos:prefLabel']) == dict:\n",
    "                    label = piece['skos:prefLabel']['@value']\n",
    "                    full_id = piece['@id']\n",
    "                    hash_id = piece['@id'].split('/')[-1]\n",
    "                    fully_qualified_info[label] = {\n",
    "                        'full_id': full_id,\n",
    "                        'hash_id': hash_id\n",
    "                    }\n",
    "                    loc_subject_headings.add(label)\n",
    "                elif type(piece['skos:prefLabel']) == str:\n",
    "                    label = piece['skos:prefLabel']\n",
    "                    strex = piece\n",
    "                    loc_subject_headings.add(label)\n",
    "                elif type(piece['skos:prefLabel']) == list:\n",
    "                    if type(piece['skos:prefLabel'][0]) == str:\n",
    "                        label = piece['skos:prefLabel'][0]\n",
    "                        listex = piece\n",
    "                        loc_subject_headings.add(label)\n",
    "                else:\n",
    "                    outliers.append(piece)\n",
    "            except KeyError:\n",
    "                problems.append(piece)"
   ]
  },
  {
   "cell_type": "code",
   "execution_count": 9,
   "metadata": {},
   "outputs": [
    {
     "data": {
      "text/plain": [
       "429946"
      ]
     },
     "execution_count": 9,
     "metadata": {},
     "output_type": "execute_result"
    }
   ],
   "source": [
    "len(loc_subject_headings)"
   ]
  },
  {
   "cell_type": "code",
   "execution_count": 17,
   "metadata": {},
   "outputs": [
    {
     "name": "stdout",
     "output_type": "stream",
     "text": [
      "Bee culture--Juvenile literature {'full_id': 'http://id.loc.gov/authorities/subjects/sh2009116899', 'hash_id': 'sh2009116899'}\n"
     ]
    }
   ],
   "source": [
    "for fullq in fully_qualified_info:\n",
    "    print(fullq, fully_qualified_info[fullq])\n",
    "    break"
   ]
  },
  {
   "cell_type": "code",
   "execution_count": 18,
   "metadata": {},
   "outputs": [
    {
     "data": {
      "text/plain": [
       "0"
      ]
     },
     "execution_count": 18,
     "metadata": {},
     "output_type": "execute_result"
    }
   ],
   "source": [
    "len(outliers)"
   ]
  },
  {
   "cell_type": "code",
   "execution_count": 11,
   "metadata": {},
   "outputs": [
    {
     "name": "stdout",
     "output_type": "stream",
     "text": [
      "{'@id': 'http://id.loc.gov/authorities/names/nb2016024072', '@type': 'skos:Concept'}\n",
      "- - - - - - - - - - - - - -\n",
      "{'@id': 'http://id.loc.gov/authorities/names/n2017245512', '@type': 'skos:Concept'}\n",
      "- - - - - - - - - - - - - -\n",
      "{'@id': 'http://id.loc.gov/authorities/names/n2017054713', '@type': 'skos:Concept'}\n",
      "- - - - - - - - - - - - - -\n",
      "{'@id': 'http://id.loc.gov/authorities//sp2017003933', '@type': 'skos:Concept'}\n",
      "- - - - - - - - - - - - - -\n",
      "{'@id': 'http://id.loc.gov/authorities/names/no2017092454', '@type': 'skos:Concept'}\n",
      "- - - - - - - - - - - - - -\n",
      "{'@id': 'http://id.loc.gov/authorities/names/no2019090937', '@type': 'skos:Concept'}\n",
      "- - - - - - - - - - - - - -\n",
      "{'@id': 'http://id.loc.gov/authorities/names/no2019090795', '@type': 'skos:Concept'}\n",
      "- - - - - - - - - - - - - -\n",
      "{'@id': 'http://id.loc.gov/authorities/names/no2019099670', '@type': 'skos:Concept'}\n",
      "- - - - - - - - - - - - - -\n",
      "{'@id': 'http://id.loc.gov/authorities//Ṭeṿye(FictitiouscharacterfromSholemAleichem)', '@type': 'skos:Concept'}\n",
      "- - - - - - - - - - - - - -\n",
      "{'@id': 'http://id.loc.gov/authorities/names/n2019007877', '@type': 'skos:Concept'}\n",
      "- - - - - - - - - - - - - -\n",
      "{'@id': 'http://id.loc.gov/authorities/names/no2016148273', '@type': 'skos:Concept'}\n",
      "- - - - - - - - - - - - - -\n",
      "{'@id': 'http://id.loc.gov/authorities/names/n2015032004', '@type': 'skos:Concept'}\n",
      "- - - - - - - - - - - - - -\n",
      "{'@id': 'http://id.loc.gov/authorities//2018000853', '@type': 'skos:Concept'}\n",
      "- - - - - - - - - - - - - -\n",
      "{'@id': 'http://id.loc.gov/authorities//2018000851', '@type': 'skos:Concept'}\n",
      "- - - - - - - - - - - - - -\n",
      "{'@id': 'http://id.loc.gov/authorities//sp2017003444', '@type': 'skos:Concept'}\n",
      "- - - - - - - - - - - - - -\n",
      "{'@id': 'http://id.loc.gov/authorities//sp2017003446', '@type': 'skos:Concept'}\n",
      "- - - - - - - - - - - - - -\n",
      "{'@id': 'http://id.loc.gov/authorities/names/no2019090590', '@type': 'skos:Concept'}\n",
      "- - - - - - - - - - - - - -\n",
      "{'@id': 'http://id.loc.gov/authorities/names/no2016123715', '@type': 'skos:Concept'}\n",
      "- - - - - - - - - - - - - -\n",
      "{'@id': 'http://id.loc.gov/authorities/names/no2019087958', '@type': 'skos:Concept'}\n",
      "- - - - - - - - - - - - - -\n",
      "{'@id': 'http://id.loc.gov/authorities/names/no2019099441', '@type': 'skos:Concept'}\n",
      "- - - - - - - - - - - - - -\n",
      "{'@id': 'http://id.loc.gov/authorities/names/no2019101435', '@type': 'skos:Concept'}\n",
      "- - - - - - - - - - - - - -\n",
      "{'@id': 'http://id.loc.gov/authorities/names/no2019099587', '@type': 'skos:Concept'}\n",
      "- - - - - - - - - - - - - -\n",
      "{'@id': 'http://id.loc.gov/authorities/subjects/sh2018001858', '@type': 'skos:Concept'}\n",
      "- - - - - - - - - - - - - -\n",
      "{'@id': 'http://id.loc.gov/authorities/names/no2019083403', '@type': 'skos:Concept'}\n",
      "- - - - - - - - - - - - - -\n",
      "{'@id': 'http://id.loc.gov/authorities/subjects/sh2003004658', '@type': 'skos:Concept'}\n",
      "- - - - - - - - - - - - - -\n",
      "{'@id': 'http://id.loc.gov/authorities/subjects/sh2007010201', '@type': 'skos:Concept'}\n",
      "- - - - - - - - - - - - - -\n",
      "{'@id': 'http://id.loc.gov/authorities/names/no2019097361', '@type': 'skos:Concept'}\n",
      "- - - - - - - - - - - - - -\n",
      "{'@id': 'http://id.loc.gov/authorities/subjects/sh2007010417', '@type': 'skos:Concept'}\n",
      "- - - - - - - - - - - - - -\n",
      "{'@id': 'http://id.loc.gov/authorities/names/no2019090136', '@type': 'skos:Concept'}\n",
      "- - - - - - - - - - - - - -\n",
      "{'@id': 'http://id.loc.gov/authorities/names/n2015036345', '@type': 'skos:Concept'}\n",
      "- - - - - - - - - - - - - -\n",
      "{'@id': 'http://id.loc.gov/authorities/names/no2019083357', '@type': 'skos:Concept'}\n",
      "- - - - - - - - - - - - - -\n",
      "{'@id': 'http://id.loc.gov/authorities/names/n2015016642', '@type': 'skos:Concept'}\n",
      "- - - - - - - - - - - - - -\n"
     ]
    }
   ],
   "source": [
    "for prob in problems:\n",
    "    print(prob)\n",
    "    print('- - - - - - - - - - - - - -')"
   ]
  },
  {
   "cell_type": "code",
   "execution_count": 12,
   "metadata": {},
   "outputs": [
    {
     "name": "stdout",
     "output_type": "stream",
     "text": [
      "Junkers Ju-52 (Transport plane)\n",
      "Moricsalas rezervāts (Moricsala, Latvia)\n",
      "Deprivation (Psychology) in literature\n",
      "Traps (Petroleum geology)\n",
      "Real property--Wisconsin--Adams County--Maps\n",
      "Songs, Achinese\n",
      "Basses (Singers)\n",
      "Harpsichord, flute, oboe with string orchestra\n",
      "Darveau family\n",
      "Inca philosophy\n",
      "Ponds--England\n",
      "West Indian green chiton\n",
      "Arctic regions--Antiquities\n",
      "Indian Sands Site (Or.)\n",
      "Plazas--Finland\n",
      "Public works--New York (State)--Niagara Falls\n",
      "Pitted Ware culture\n",
      "Richborough Port (England)\n",
      "Diplomats--Italy--Biography\n",
      "McKnight Lake (Man.)\n",
      "Mars (Planet)--Geomorphology\n",
      "National Book Month\n",
      "Constitutional law--Philippines\n",
      "Lute music--17th century\n",
      "Employees' buildings and facilities--France\n",
      "Lawley family\n",
      "Wierzbnów family\n",
      "Forêt domaniale de Vauluisant (France)\n",
      "Art historians as collectors\n",
      "Marble Canyon National Monument (Ariz.)\n",
      "Great Britain--Social conditions--20th century\n",
      "Hybrid rice\n",
      "Aboriginal Australians--Legal status, laws, etc\n",
      "Trampolining--Equipment and supplies\n",
      "Blackwork embroidery\n",
      "Purkinje cells\n",
      "Poppin family\n",
      "Demulsification\n",
      "Anonyms and pseudonyms, Russian\n",
      "China--History--Ming dynasty, 1368-1644--Biography\n",
      "Plant phenomorphology\n",
      "Revolutionaries--United States--Biography--Juvenile literature\n",
      "Petroleum industry and trade--Germany (West)\n",
      "Cancer--Risk factors\n",
      "Ratté family\n",
      "Suites (Harmonica with string orchestra)\n",
      "Romance fiction, Sri Lankan (English)\n",
      "Evangelicalism--Relations--Judaism\n",
      "Refractory coating\n",
      "Melanau (Malaysian people)\n",
      "Ultraviolet radiation--Industrial applications--Congresses\n",
      "Love poetry, Dutch\n",
      "Viola d'amore and lute music\n",
      "Leadership--Religious aspects--Methodist Episcopal Church\n",
      "Vall d'Albaida Region (Spain)\n",
      "Pterynotus\n",
      "Children's stories, Ukrainian\n",
      "Charles Scribners Sons Building (New York, N.Y.)\n",
      "Myristicaceae\n",
      "Fall of man--Poetry\n",
      "Finance--Bolivia\n",
      "Drosophila obscura\n",
      "Cutten family\n",
      "Beowulf--Congresses\n",
      "Hadith--Memorizing\n",
      "Planetveien 12 (Oslo, Norway)\n",
      "Polymerization--Effect of reduced gravity on\n",
      "Civil rights--Haiti\n",
      "Trinci family\n",
      "Illegal buildings\n",
      "Gatzoyiannis family\n",
      "House construction--Climatic factors\n",
      "Ex-bishops\n",
      "Thormodsaeter family\n",
      "Quatrains, Vietnamese\n",
      "Communal living\n",
      "Frangipane family\n",
      "Bintuni Bay (Indonesia)\n",
      "Dialect drama, German\n",
      "Air pilots' writings\n",
      "Sulphur Springs (Benton County, Or.)\n",
      "Indians of Central America--Transportation\n",
      "Indonesia--In motion pictures\n",
      "Citroën automobile\n",
      "Drawing, Belarusian\n",
      "Carib mythology\n",
      "Glassburn family\n",
      "Biography--Juvenile literature\n",
      "Kuikuru Indians\n",
      "Salzach River Watershed (Austria and Germany)\n",
      "Chang (Dulcimer)\n",
      "Lesbians--Alcohol use--United States\n",
      "Magicians--United States\n",
      "Sexual minority women\n",
      "Kievan Rus--Kings and rulers\n",
      "Bullsnake\n",
      "Moral education--Taiwan--Western influences\n",
      "Thyroid gland--Cancer--Diagnosis\n",
      "Electrical engineering--Periodicals\n",
      "Jianghan Region (China)\n",
      "Deportation--United States\n"
     ]
    }
   ],
   "source": [
    "n = 100\n",
    "i = 0\n",
    "for heading in loc_subject_headings:\n",
    "    if i <= n:\n",
    "        print(heading)\n",
    "        i += 1"
   ]
  },
  {
   "cell_type": "code",
   "execution_count": null,
   "metadata": {},
   "outputs": [],
   "source": []
  }
 ],
 "metadata": {
  "kernelspec": {
   "display_name": "Python 3",
   "language": "python",
   "name": "python3"
  },
  "language_info": {
   "codemirror_mode": {
    "name": "ipython",
    "version": 3
   },
   "file_extension": ".py",
   "mimetype": "text/x-python",
   "name": "python",
   "nbconvert_exporter": "python",
   "pygments_lexer": "ipython3",
   "version": "3.6.5"
  }
 },
 "nbformat": 4,
 "nbformat_minor": 2
}
