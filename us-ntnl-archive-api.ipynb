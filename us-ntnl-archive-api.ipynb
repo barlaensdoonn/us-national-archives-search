{
 "cells": [
  {
   "cell_type": "code",
   "execution_count": 58,
   "metadata": {},
   "outputs": [],
   "source": [
    "import requests\n",
    "from credents import username, password"
   ]
  },
  {
   "cell_type": "code",
   "execution_count": 130,
   "metadata": {},
   "outputs": [
    {
     "data": {
      "text/plain": [
       "'https://catalog.archives.gov/api/v1/?description.fileUnit'"
      ]
     },
     "execution_count": 130,
     "metadata": {},
     "output_type": "execute_result"
    }
   ],
   "source": [
    "api_url = 'https://catalog.archives.gov/api/v1/'\n",
    "# login_params = 'login?user={}&password={}'.format(username, password)\n",
    "# query_url = ''.join([api_url, login_params])\n",
    "query_url = ''.join([api_url, '&?description.fileUnit'])  ## '?cursorMark=*'\n",
    "query_url"
   ]
  },
  {
   "cell_type": "code",
   "execution_count": 131,
   "metadata": {},
   "outputs": [],
   "source": [
    "r = requests.get(query_url)\n",
    "response = r.json()"
   ]
  },
  {
   "cell_type": "code",
   "execution_count": 132,
   "metadata": {},
   "outputs": [
    {
     "data": {
      "text/plain": [
       "dict_keys(['opaResponse'])"
      ]
     },
     "execution_count": 132,
     "metadata": {},
     "output_type": "execute_result"
    }
   ],
   "source": [
    "response.keys()"
   ]
  },
  {
   "cell_type": "code",
   "execution_count": 133,
   "metadata": {},
   "outputs": [
    {
     "data": {
      "text/plain": [
       "dict_keys(['header', 'error'])"
      ]
     },
     "execution_count": 133,
     "metadata": {},
     "output_type": "execute_result"
    }
   ],
   "source": [
    "response['opaResponse'].keys()"
   ]
  },
  {
   "cell_type": "code",
   "execution_count": 92,
   "metadata": {},
   "outputs": [
    {
     "name": "stdout",
     "output_type": "stream",
     "text": [
      "@status: 200\n",
      "time: 2019-11-09T21:30:09.954Z\n",
      "request: {'format': 'json', 'pretty': True, 'action': 'search', 'cursorMark': '*'}\n"
     ]
    }
   ],
   "source": [
    "for key in ['@status', 'time', 'request']:\n",
    "    print('{}: {}'.format(key, response['opaResponse'][key]))"
   ]
  },
  {
   "cell_type": "code",
   "execution_count": 93,
   "metadata": {},
   "outputs": [
    {
     "data": {
      "text/plain": [
       "dict_keys(['queryTime', 'total', 'offset', 'nextCursorMark', 'rows', 'result'])"
      ]
     },
     "execution_count": 93,
     "metadata": {},
     "output_type": "execute_result"
    }
   ],
   "source": [
    "response['opaResponse']['results'].keys()"
   ]
  },
  {
   "cell_type": "code",
   "execution_count": 95,
   "metadata": {},
   "outputs": [
    {
     "data": {
      "text/plain": [
       "'AoMIP4AAAHDI7f2o7gItZGVzYy00NTUxMjc5Mw==-10'"
      ]
     },
     "execution_count": 95,
     "metadata": {},
     "output_type": "execute_result"
    }
   ],
   "source": [
    "response['opaResponse']['results']['nextCursorMark']"
   ]
  },
  {
   "cell_type": "code",
   "execution_count": 100,
   "metadata": {},
   "outputs": [
    {
     "data": {
      "text/plain": [
       "121043289"
      ]
     },
     "execution_count": 100,
     "metadata": {},
     "output_type": "execute_result"
    }
   ],
   "source": [
    "response['opaResponse']['results']['total']"
   ]
  },
  {
   "cell_type": "code",
   "execution_count": 101,
   "metadata": {},
   "outputs": [
    {
     "data": {
      "text/plain": [
       "10"
      ]
     },
     "execution_count": 101,
     "metadata": {},
     "output_type": "execute_result"
    }
   ],
   "source": [
    "response['opaResponse']['results']['rows']"
   ]
  },
  {
   "cell_type": "code",
   "execution_count": 102,
   "metadata": {},
   "outputs": [
    {
     "data": {
      "text/plain": [
       "10"
      ]
     },
     "execution_count": 102,
     "metadata": {},
     "output_type": "execute_result"
    }
   ],
   "source": [
    "len(response['opaResponse']['results']['result'])"
   ]
  },
  {
   "cell_type": "code",
   "execution_count": 103,
   "metadata": {},
   "outputs": [
    {
     "data": {
      "text/plain": [
       "dict_keys(['num', 'type', 'naId', 'description', 'objects', 'publicContributions'])"
      ]
     },
     "execution_count": 103,
     "metadata": {},
     "output_type": "execute_result"
    }
   ],
   "source": [
    "response['opaResponse']['results']['result'][0].keys()"
   ]
  },
  {
   "cell_type": "code",
   "execution_count": 104,
   "metadata": {},
   "outputs": [
    {
     "data": {
      "text/plain": [
       "dict_keys(['item'])"
      ]
     },
     "execution_count": 104,
     "metadata": {},
     "output_type": "execute_result"
    }
   ],
   "source": [
    "response['opaResponse']['results']['result'][0]['description'].keys()"
   ]
  },
  {
   "cell_type": "markdown",
   "metadata": {},
   "source": [
    "## ['description']['fileUnit']"
   ]
  },
  {
   "cell_type": "code",
   "execution_count": 111,
   "metadata": {},
   "outputs": [
    {
     "data": {
      "text/plain": [
       "{'accessRestriction': {'status': {'naId': '10031403',\n",
       "   'termName': 'Unrestricted'}},\n",
       " 'dataControlGroup': {'groupCd': 'RDSS', 'groupId': 'ou=NWCS-S,ou=groups'},\n",
       " 'generalRecordsTypeArray': {'generalRecordsType': {'naId': '10035674',\n",
       "   'termName': 'Photographs and other Graphic Materials'}},\n",
       " 'isUnderEdit': 'false',\n",
       " 'localIdentifier': '111-SC-50768',\n",
       " 'naId': '86707294',\n",
       " 'physicalOccurrenceArray': {'itemPhysicalOccurrence': {'copyStatus': {'naId': '10031434',\n",
       "    'termName': 'Preservation-Reproduction-Reference'},\n",
       "   'locationArray': {'location': {'facility': {'naId': '10048491',\n",
       "      'termName': 'National Archives at College Park - Archives II (College Park, MD)'}}},\n",
       "   'mediaOccurrenceArray': {'itemMediaOccurrence': {'containerId': '404',\n",
       "     'generalMediaTypeArray': {'generalMediaType': {'naId': '12000010',\n",
       "       'termName': 'Photographic Materials'}},\n",
       "     'specificMediaType': {'naId': '10048292',\n",
       "      'termName': 'Photographic Print'}}},\n",
       "   'referenceUnitArray': {'referenceUnit': {'naId': '31',\n",
       "     'termName': 'National Archives at College Park - Still Pictures',\n",
       "     'mailCode': 'RDSS',\n",
       "     'name': 'National Archives at College Park - Still Pictures',\n",
       "     'address1': 'National Archives at College Park',\n",
       "     'address2': '8601 Adelphi Road',\n",
       "     'city': 'College Park',\n",
       "     'state': 'MD',\n",
       "     'postCode': '20740-6001',\n",
       "     'phone': '301-837-0561',\n",
       "     'fax': '301-837-3621',\n",
       "     'email': 'stillpix@nara.gov'}}}},\n",
       " 'recordHistory': {'created': {'dateTime': '2018-06-26T11:42:47'},\n",
       "  'imported': {'dateTime': '2018-06-26T11:42:47'}},\n",
       " 'title': 'American soldier posed beside the armor of a feudal knight of old Germany in Sayn, Germany',\n",
       " 'useRestriction': {'status': {'naId': '10675400',\n",
       "   'termName': 'Unrestricted'}},\n",
       " 'parentSeries': {'naId': '530707',\n",
       "  'title': 'Photographs of American Military Activities',\n",
       "  'inclusiveDates': {'inclusiveEndDate': {'dateQualifier': {'naId': '10031016',\n",
       "     'termName': 'ca.'},\n",
       "    'year': '1981',\n",
       "    'logicalDate': '1981-12-31T00:00:00'},\n",
       "   'inclusiveStartDate': {'dateQualifier': {'naId': '10031016',\n",
       "     'termName': 'ca.'},\n",
       "    'year': '1918',\n",
       "    'logicalDate': '1918-01-01T00:00:00'}},\n",
       "  'parentRecordGroup': {'naId': '440',\n",
       "   'title': 'Records of the Office of the Chief Signal Officer',\n",
       "   'recordGroupNumber': '111',\n",
       "   'inclusiveDates': {'inclusiveEndDate': {'year': '1985',\n",
       "     'logicalDate': '1985-12-31T00:00:00'},\n",
       "    'inclusiveStartDate': {'year': '1860',\n",
       "     'logicalDate': '1860-01-01T00:00:00'}}},\n",
       "  'creatingOrganizationArray': {'creatingOrganization': [{'creator': {'naId': '10468974',\n",
       "      'termName': 'War Department. Army War College. Historical Section. World War I Branch. ca. 1918-ca. 1948',\n",
       "      'establishDate': {'year': '1918', 'logicalDate': '1918-01-01T00:00:00'},\n",
       "      'abolishDate': {'year': '1948', 'logicalDate': '1948-12-31T00:00:00'}},\n",
       "     'creatorType': {'naId': '10031466', 'termName': 'Predecessor'}},\n",
       "    {'creator': {'naId': '10459659',\n",
       "      'termName': 'Department of Defense. Department of the Army. Office of the Deputy Chief of Staff for Operations. U.S. Army Audiovisual Center. ca. 1974-5/15/1984',\n",
       "      'establishDate': {'year': '1974', 'logicalDate': '1974-01-01T00:00:00'},\n",
       "      'abolishDate': {'year': '1984',\n",
       "       'month': '5',\n",
       "       'day': '15',\n",
       "       'logicalDate': '1984-05-15T00:00:00'}},\n",
       "     'creatorType': {'naId': '10031465', 'termName': 'Most Recent'}},\n",
       "    {'creator': {'naId': '10463078',\n",
       "      'termName': 'Department of Defense. Department of the Army. U.S. Army Materiel Command. U.S. Army Pictorial Center. (4/1/1964 - 6/30/1970)',\n",
       "      'establishDate': {'day': '1',\n",
       "       'month': '4',\n",
       "       'year': '1964',\n",
       "       'logicalDate': '1964-04-01T00:00:00'},\n",
       "      'abolishDate': {'day': '30',\n",
       "       'month': '6',\n",
       "       'year': '1970',\n",
       "       'logicalDate': '1970-06-30T00:00:00'}},\n",
       "     'creatorType': {'naId': '10031466', 'termName': 'Predecessor'}}]}}}"
      ]
     },
     "execution_count": 111,
     "metadata": {},
     "output_type": "execute_result"
    }
   ],
   "source": [
    "response['opaResponse']['results']['result'][0]['description']['fileUnit']"
   ]
  },
  {
   "cell_type": "code",
   "execution_count": 107,
   "metadata": {},
   "outputs": [
    {
     "data": {
      "text/plain": [
       "'Unrestricted'"
      ]
     },
     "execution_count": 107,
     "metadata": {},
     "output_type": "execute_result"
    }
   ],
   "source": [
    "response['opaResponse']['results']['result'][0]['description']['fileUnit']['accessRestriction']['status']['termName']"
   ]
  },
  {
   "cell_type": "code",
   "execution_count": 108,
   "metadata": {},
   "outputs": [
    {
     "data": {
      "text/plain": [
       "'Photographs and other Graphic Materials'"
      ]
     },
     "execution_count": 108,
     "metadata": {},
     "output_type": "execute_result"
    }
   ],
   "source": [
    "response['opaResponse']['results']['result'][0]['description']['fileUnit']['generalRecordsTypeArray']['generalRecordsType']['termName']"
   ]
  },
  {
   "cell_type": "code",
   "execution_count": 109,
   "metadata": {},
   "outputs": [
    {
     "ename": "KeyError",
     "evalue": "'fileUnitPhysicalOccurrence'",
     "output_type": "error",
     "traceback": [
      "\u001b[0;31m---------------------------------------------------------------------------\u001b[0m",
      "\u001b[0;31mKeyError\u001b[0m                                  Traceback (most recent call last)",
      "\u001b[0;32m<ipython-input-109-b7cc5ec9b4ee>\u001b[0m in \u001b[0;36m<module>\u001b[0;34m\u001b[0m\n\u001b[0;32m----> 1\u001b[0;31m \u001b[0mresponse\u001b[0m\u001b[0;34m[\u001b[0m\u001b[0;34m'opaResponse'\u001b[0m\u001b[0;34m]\u001b[0m\u001b[0;34m[\u001b[0m\u001b[0;34m'results'\u001b[0m\u001b[0;34m]\u001b[0m\u001b[0;34m[\u001b[0m\u001b[0;34m'result'\u001b[0m\u001b[0;34m]\u001b[0m\u001b[0;34m[\u001b[0m\u001b[0;36m0\u001b[0m\u001b[0;34m]\u001b[0m\u001b[0;34m[\u001b[0m\u001b[0;34m'description'\u001b[0m\u001b[0;34m]\u001b[0m\u001b[0;34m[\u001b[0m\u001b[0;34m'item'\u001b[0m\u001b[0;34m]\u001b[0m\u001b[0;34m[\u001b[0m\u001b[0;34m'physicalOccurrenceArray'\u001b[0m\u001b[0;34m]\u001b[0m\u001b[0;34m[\u001b[0m\u001b[0;34m'fileUnitPhysicalOccurrence'\u001b[0m\u001b[0;34m]\u001b[0m\u001b[0;34m[\u001b[0m\u001b[0;34m'mediaOccurrenceArray'\u001b[0m\u001b[0;34m]\u001b[0m\u001b[0;34m[\u001b[0m\u001b[0;34m'mediaOccurrence'\u001b[0m\u001b[0;34m]\u001b[0m\u001b[0;34m[\u001b[0m\u001b[0;34m'generalMediaTypeArray'\u001b[0m\u001b[0;34m]\u001b[0m\u001b[0;34m[\u001b[0m\u001b[0;34m'generalMediaType'\u001b[0m\u001b[0;34m]\u001b[0m\u001b[0;34m[\u001b[0m\u001b[0;34m'termName'\u001b[0m\u001b[0;34m]\u001b[0m\u001b[0;34m\u001b[0m\u001b[0m\n\u001b[0m",
      "\u001b[0;31mKeyError\u001b[0m: 'fileUnitPhysicalOccurrence'"
     ]
    }
   ],
   "source": [
    "response['opaResponse']['results']['result'][0]['description']['fileUnit']['physicalOccurrenceArray']['fileUnitPhysicalOccurrence']['mediaOccurrenceArray']['mediaOccurrence']['generalMediaTypeArray']['generalMediaType']['termName']"
   ]
  },
  {
   "cell_type": "code",
   "execution_count": 113,
   "metadata": {},
   "outputs": [
    {
     "ename": "KeyError",
     "evalue": "'topicalSubjectArray'",
     "output_type": "error",
     "traceback": [
      "\u001b[0;31m---------------------------------------------------------------------------\u001b[0m",
      "\u001b[0;31mKeyError\u001b[0m                                  Traceback (most recent call last)",
      "\u001b[0;32m<ipython-input-113-f2f503f1d98d>\u001b[0m in \u001b[0;36m<module>\u001b[0;34m\u001b[0m\n\u001b[0;32m----> 1\u001b[0;31m \u001b[0mresponse\u001b[0m\u001b[0;34m[\u001b[0m\u001b[0;34m'opaResponse'\u001b[0m\u001b[0;34m]\u001b[0m\u001b[0;34m[\u001b[0m\u001b[0;34m'results'\u001b[0m\u001b[0;34m]\u001b[0m\u001b[0;34m[\u001b[0m\u001b[0;34m'result'\u001b[0m\u001b[0;34m]\u001b[0m\u001b[0;34m[\u001b[0m\u001b[0;36m0\u001b[0m\u001b[0;34m]\u001b[0m\u001b[0;34m[\u001b[0m\u001b[0;34m'description'\u001b[0m\u001b[0;34m]\u001b[0m\u001b[0;34m[\u001b[0m\u001b[0;34m'item'\u001b[0m\u001b[0;34m]\u001b[0m\u001b[0;34m[\u001b[0m\u001b[0;34m'topicalSubjectArray'\u001b[0m\u001b[0;34m]\u001b[0m\u001b[0;34m[\u001b[0m\u001b[0;34m'topicalSubject'\u001b[0m\u001b[0;34m]\u001b[0m\u001b[0;34m[\u001b[0m\u001b[0;34m'termName'\u001b[0m\u001b[0;34m]\u001b[0m\u001b[0;34m\u001b[0m\u001b[0m\n\u001b[0m",
      "\u001b[0;31mKeyError\u001b[0m: 'topicalSubjectArray'"
     ]
    }
   ],
   "source": [
    "response['opaResponse']['results']['result'][0]['description']['fileUnit']['topicalSubjectArray']['topicalSubject']['termName']"
   ]
  },
  {
   "cell_type": "code",
   "execution_count": 99,
   "metadata": {},
   "outputs": [
    {
     "data": {
      "text/plain": [
       "{'@created': '2015-01-01T00:00:00Z',\n",
       " '@version': 'OPA-OBJECTS-1.0',\n",
       " 'object': {'@id': '86707295',\n",
       "  '@objectSortNum': '1',\n",
       "  'technicalMetadata': {'size': '22013239',\n",
       "   'mime': 'image/jpeg',\n",
       "   'height': '5673 pixels',\n",
       "   'width': '8363 pixels',\n",
       "   'software': 'Capture One 8 Windows',\n",
       "   'resolution': {'@units': 'inch',\n",
       "    '@x': '600 dots per inch',\n",
       "    '@y': '600 dots per inch'}},\n",
       "  'file': {'@mime': 'image/jpeg',\n",
       "   '@name': '111-SC-50768.jpg',\n",
       "   '@path': '/lz/stillpix/111-sc/Box404/111-SC-50768.jpg',\n",
       "   '@type': 'primary',\n",
       "   '@url': 'https://catalog.archives.gov/catalogmedia/lz/stillpix/111-sc/Box404/111-SC-50768.jpg'},\n",
       "  'thumbnail': {'@mime': 'image/jpeg',\n",
       "   '@path': 'opa-renditions/thumbnails/111-SC-50768.jpg-thumb.jpg',\n",
       "   '@url': 'https://catalog.archives.gov/catalogmedia/live/stillpix/111-sc/Box404/111-SC-50768.jpg/opa-renditions/thumbnails/111-SC-50768.jpg-thumb.jpg'},\n",
       "  'imageTiles': {'@path': 'opa-renditions/image-tiles/111-SC-50768.jpg.dzi',\n",
       "   '@url': 'https://catalog.archives.gov/catalogmedia/live/stillpix/111-sc/Box404/111-SC-50768.jpg/opa-renditions/image-tiles/111-SC-50768.jpg.dzi'},\n",
       "  'publicContributions': {'transcription': {'@lastModified': '2019-11-09T20:45:12Z',\n",
       "    '@version': '1',\n",
       "    'text': \"NUMBER                           SYMBOL\\n\\n50768                                E.\\n\\n\\nPHOTOGRAPHER        S.C.\\n\\nREC'D    1919                    TAKEN\\n\\nDESCRIPTION:\\n\\nAMERICAN SOLDIER POSED BESIDE\\nthe armor of a feudal knight\\nof old Germany in Sayn, Germany.  \\n\\n\\nISSUED:           C                    NOTES:                               3-5605\",\n",
       "    'users': {'@total': '1',\n",
       "     'user': {'@fullName': 'Derek Edward Ahern',\n",
       "      '@isNaraStaff': 'false',\n",
       "      '@lastModified': '2019-11-09T20:45:12Z',\n",
       "      '@user': 'DerekEdward',\n",
       "      '@version': '1'}}}}}}"
      ]
     },
     "execution_count": 99,
     "metadata": {},
     "output_type": "execute_result"
    }
   ],
   "source": [
    "response['opaResponse']['results']['result'][0]['objects']"
   ]
  },
  {
   "cell_type": "code",
   "execution_count": null,
   "metadata": {},
   "outputs": [],
   "source": []
  }
 ],
 "metadata": {
  "kernelspec": {
   "display_name": "Python 3",
   "language": "python",
   "name": "python3"
  },
  "language_info": {
   "codemirror_mode": {
    "name": "ipython",
    "version": 3
   },
   "file_extension": ".py",
   "mimetype": "text/x-python",
   "name": "python",
   "nbconvert_exporter": "python",
   "pygments_lexer": "ipython3",
   "version": "3.6.5"
  }
 },
 "nbformat": 4,
 "nbformat_minor": 2
}
